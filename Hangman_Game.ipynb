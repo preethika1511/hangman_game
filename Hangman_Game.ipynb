{
 "cells": [
  {
   "cell_type": "code",
   "execution_count": 1,
   "id": "42b5bcd1-2d61-46dc-9425-465b765db04b",
   "metadata": {},
   "outputs": [
    {
     "name": "stdout",
     "output_type": "stream",
     "text": [
      "WELCOME TO HANGMAN!\n",
      "\n",
      "_ _ _ _ _ _ _ _ _\n"
     ]
    },
    {
     "name": "stdin",
     "output_type": "stream",
     "text": [
      "Guess a letter: a\n"
     ]
    },
    {
     "name": "stdout",
     "output_type": "stream",
     "text": [
      "\n",
      "_ _ _ _ _ A _ _ _\n"
     ]
    },
    {
     "name": "stdin",
     "output_type": "stream",
     "text": [
      "Guess a letter: e\n"
     ]
    },
    {
     "name": "stdout",
     "output_type": "stream",
     "text": [
      "Wrong guess! 5 attempt(s) are left\n",
      "\n",
      "_ _ _ _ _ A _ _ _\n"
     ]
    },
    {
     "name": "stdin",
     "output_type": "stream",
     "text": [
      "Guess a letter: o\n"
     ]
    },
    {
     "name": "stdout",
     "output_type": "stream",
     "text": [
      "\n",
      "_ O _ _ _ A _ _ _\n"
     ]
    },
    {
     "name": "stdin",
     "output_type": "stream",
     "text": [
      "Guess a letter: m\n"
     ]
    },
    {
     "name": "stdout",
     "output_type": "stream",
     "text": [
      "\n",
      "M O _ _ _ A _ _ _\n"
     ]
    },
    {
     "name": "stdin",
     "output_type": "stream",
     "text": [
      "Guess a letter: p\n"
     ]
    },
    {
     "name": "stdout",
     "output_type": "stream",
     "text": [
      "Wrong guess! 4 attempt(s) are left\n",
      "\n",
      "M O _ _ _ A _ _ _\n"
     ]
    },
    {
     "name": "stdin",
     "output_type": "stream",
     "text": [
      "Guess a letter: u\n"
     ]
    },
    {
     "name": "stdout",
     "output_type": "stream",
     "text": [
      "\n",
      "M O U _ _ A _ _ _\n"
     ]
    },
    {
     "name": "stdin",
     "output_type": "stream",
     "text": [
      "Guess a letter: n\n"
     ]
    },
    {
     "name": "stdout",
     "output_type": "stream",
     "text": [
      "\n",
      "M O U N _ A _ N _\n"
     ]
    },
    {
     "name": "stdin",
     "output_type": "stream",
     "text": [
      "Guess a letter: t\n"
     ]
    },
    {
     "name": "stdout",
     "output_type": "stream",
     "text": [
      "\n",
      "M O U N T A _ N _\n"
     ]
    },
    {
     "name": "stdin",
     "output_type": "stream",
     "text": [
      "Guess a letter: a\n"
     ]
    },
    {
     "name": "stdout",
     "output_type": "stream",
     "text": [
      "\n",
      "M O U N T A _ N _\n"
     ]
    },
    {
     "name": "stdin",
     "output_type": "stream",
     "text": [
      "Guess a letter: i\n"
     ]
    },
    {
     "name": "stdout",
     "output_type": "stream",
     "text": [
      "\n",
      "M O U N T A I N _\n"
     ]
    },
    {
     "name": "stdin",
     "output_type": "stream",
     "text": [
      "Guess a letter: s\n"
     ]
    },
    {
     "name": "stdout",
     "output_type": "stream",
     "text": [
      "\n",
      "Yay!You survived!\n"
     ]
    }
   ],
   "source": [
    "import random\n",
    "\n",
    "words=['ALGORITHMS','PYTHON','SCIENCE','TITANIC','COMPUTER','BLUEBERRY','GIRAFFE','PENGUIN','ISLAND','MOUNTAINS']\n",
    "random_word=random.choice(words) #chooses a random word from the list\n",
    "word_display= ['_' for i in random_word]\n",
    "attempts=6 ##number of attempts\n",
    "\n",
    "print(\"WELCOME TO HANGMAN!\")\n",
    "\n",
    "while (attempts>0) and ('_' in word_display):\n",
    "    print(\"\\n\"+\" \".join(word_display))#separator.join(iterable) is used to concatenate the elements of an iterable into a single string, with a specified separator between each element.\n",
    "    guess=input(\"Guess a letter:\").upper()\n",
    "    if guess in random_word:\n",
    "        for index,letter in enumerate(random_word): #enumerate(iterable, start=0) is used when we need both the index and the value of items in a list or other iterable during a loop. \n",
    "            if letter == guess:\n",
    "                word_display[index]=guess\n",
    "    else:\n",
    "        print(f\"Wrong guess! {attempts-1} attempt(s) are left\")\n",
    "        attempts-=1\n",
    "\n",
    "\n",
    "#Guess conclusion\n",
    "if '_' not in word_display:\n",
    "    print(\"\\nYay!You survived!\")\n",
    "else:\n",
    "    print(f\"\\nYou died! Ran out of attempts\\n The word is {random_word} \")"
   ]
  },
  {
   "cell_type": "code",
   "execution_count": null,
   "id": "88b370bf-abef-4f20-aa38-bea26b424967",
   "metadata": {},
   "outputs": [],
   "source": []
  }
 ],
 "metadata": {
  "kernelspec": {
   "display_name": "Python 3 (ipykernel)",
   "language": "python",
   "name": "python3"
  },
  "language_info": {
   "codemirror_mode": {
    "name": "ipython",
    "version": 3
   },
   "file_extension": ".py",
   "mimetype": "text/x-python",
   "name": "python",
   "nbconvert_exporter": "python",
   "pygments_lexer": "ipython3",
   "version": "3.12.7"
  }
 },
 "nbformat": 4,
 "nbformat_minor": 5
}
